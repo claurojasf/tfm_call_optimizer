{
 "cells": [
  {
   "cell_type": "code",
   "execution_count": 2,
   "metadata": {},
   "outputs": [],
   "source": [
    "import os\n",
    "\n",
    "# Directorios\n",
    "input_dir = '/Users/ilyassmoro/Desktop/Git_TFM/Audios transcritos'\n",
    "output_dir = '/Users/ilyassmoro/Desktop/Git_TFM/Audios limpios'\n",
    "\n",
    "# Asegurar que la carpeta de salida existe\n",
    "os.makedirs(output_dir, exist_ok=True)\n"
   ]
  },
  {
   "cell_type": "code",
   "execution_count": 3,
   "metadata": {},
   "outputs": [],
   "source": [
    "# Frases a eliminar\n",
    "frases_a_eliminar = [\n",
    "    \"Tiene una nueva llamada\",\n",
    "    \"Llamada transferida a Claro\",\n",
    "    \"Llamada transferida a TIGO\",\n",
    "    \"Usted se ha comunicado con… si conoce el numero de la extension por favor marquelo…de lo contrario marque 1,2,3 etc o 9 para repetir este menu\",\n",
    "    \"Hey hey hey, Bienvenido a Cúpula Constructora, donde llevamos más de 34 años construyendo sueños con verdadera calidad de vida, esta llamada esta siendo grabada y monitoreada para efectos de calidad. Te invito a conocer Montevedra Club Residencial.\",\n",
    "    \"Hey hey hey, Bienvenido a Cúpula Constructora, donde llevamos más de 34 años construyendo sueños con verdadera calidad de vida, esta llamada esta siendo grabada y monitoreada para efectos de calidad. Para comunicarte con: sala de ventas, marca 1.\"\n",
    "]\n"
   ]
  },
  {
   "cell_type": "code",
   "execution_count": 4,
   "metadata": {},
   "outputs": [
    {
     "name": "stdout",
     "output_type": "stream",
     "text": [
      "Limpieza completada ✅\n"
     ]
    }
   ],
   "source": [
    "\n",
    "# Limpiar cada archivo\n",
    "for nombre_archivo in os.listdir(input_dir):\n",
    "    if nombre_archivo.endswith('.txt'):\n",
    "        ruta_entrada = os.path.join(input_dir, nombre_archivo)\n",
    "        ruta_salida = os.path.join(output_dir, nombre_archivo)\n",
    "\n",
    "        with open(ruta_entrada, 'r', encoding='utf-8') as archivo:\n",
    "            contenido = archivo.read()\n",
    "\n",
    "            for frase in frases_a_eliminar:\n",
    "                contenido = contenido.replace(frase, '')\n",
    "\n",
    "        with open(ruta_salida, 'w', encoding='utf-8') as archivo:\n",
    "            archivo.write(contenido)\n",
    "\n",
    "print(\"Limpieza completada ✅\")"
   ]
  },
  {
   "cell_type": "code",
   "execution_count": null,
   "metadata": {},
   "outputs": [],
   "source": []
  }
 ],
 "metadata": {
  "kernelspec": {
   "display_name": "Python 3",
   "language": "python",
   "name": "python3"
  },
  "language_info": {
   "codemirror_mode": {
    "name": "ipython",
    "version": 3
   },
   "file_extension": ".py",
   "mimetype": "text/x-python",
   "name": "python",
   "nbconvert_exporter": "python",
   "pygments_lexer": "ipython3",
   "version": "3.12.3"
  }
 },
 "nbformat": 4,
 "nbformat_minor": 4
}
