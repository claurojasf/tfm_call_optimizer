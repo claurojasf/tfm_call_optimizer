{
 "cells": [
  {
   "cell_type": "markdown",
   "metadata": {},
   "source": [
    "# División de transcripciones por agente y cliente en .txt diferentes"
   ]
  },
  {
   "cell_type": "code",
   "execution_count": 2,
   "metadata": {},
   "outputs": [
    {
     "name": "stdout",
     "output_type": "stream",
     "text": [
      "✅ Transcriptions successfully split into individual files!\n"
     ]
    }
   ],
   "source": [
    "import os\n",
    "\n",
    "# 📂 Path to original transcriptions\n",
    "raw_transcriptions_path = r\"C:\\Users\\Claudio\\tfm_call_optimizer\\data\\prueba_transcriptions_raw\"\n",
    "\n",
    "# 📂 New folder for split transcriptions\n",
    "split_transcriptions_path = r\"C:\\Users\\Claudio\\tfm_call_optimizer\\data\\prueba_split_transcriptions\"\n",
    "os.makedirs(split_transcriptions_path, exist_ok=True)\n",
    "\n",
    "for filename in os.listdir(raw_transcriptions_path):\n",
    "    if filename.endswith(\".txt\"):\n",
    "        call_id = filename.replace(\".txt\", \"\")\n",
    "        file_path = os.path.join(raw_transcriptions_path, filename)\n",
    "\n",
    "        with open(file_path, \"r\", encoding=\"utf-8\") as file:\n",
    "            lines = file.readlines()\n",
    "        \n",
    "        chunk_id = 1  # Start chunk numbering\n",
    "\n",
    "        for line in lines:\n",
    "            line = line.strip()\n",
    "            if line.startswith(\"Agent:\"):\n",
    "                speaker = \"agent\"\n",
    "            elif line.startswith(\"Client:\"):\n",
    "                speaker = \"client\"\n",
    "            else:\n",
    "                continue  # Skip lines without a speaker tag\n",
    "            \n",
    "            # 📄 Create a new .txt file for each turn\n",
    "            new_filename = f\"{call_id}_{chunk_id:03}_{speaker}.txt\"\n",
    "            new_file_path = os.path.join(split_transcriptions_path, new_filename)\n",
    "\n",
    "            with open(new_file_path, \"w\", encoding=\"utf-8\") as new_file:\n",
    "                new_file.write(line)\n",
    "\n",
    "            chunk_id += 1  # Increment chunk number\n",
    "\n",
    "print(\"✅ Transcriptions successfully split into individual files!\")\n"
   ]
  },
  {
   "cell_type": "code",
   "execution_count": 3,
   "metadata": {},
   "outputs": [
    {
     "name": "stdout",
     "output_type": "stream",
     "text": [
      "\n",
      "📂 Generated Split Transcription Files:\n",
      "📄 call_001_001_agent.txt\n",
      "📄 call_001_002_client.txt\n",
      "📄 call_001_003_agent.txt\n",
      "📄 call_001_004_client.txt\n",
      "📄 call_001_005_agent.txt\n",
      "📄 call_002_001_agent.txt\n",
      "📄 call_002_002_client.txt\n",
      "📄 call_002_003_agent.txt\n",
      "📄 call_002_004_client.txt\n",
      "📄 call_003_001_agent.txt\n",
      "\n",
      "✅ Total files created: 24\n"
     ]
    }
   ],
   "source": [
    "# 🔍 **Check and Print the Generated Files**\n",
    "split_files = [f for f in os.listdir(split_transcriptions_path) if f.endswith(\".txt\")]\n",
    "\n",
    "if split_files:\n",
    "    print(\"\\n📂 Generated Split Transcription Files:\")\n",
    "    for file in split_files[:10]:  # Show only first 10 files (modify if needed)\n",
    "        print(f\"📄 {file}\")\n",
    "    \n",
    "    print(f\"\\n✅ Total files created: {len(split_files)}\")\n",
    "else:\n",
    "    print(\"⚠ No files were created. Check the input folder and formatting.\")"
   ]
  },
  {
   "cell_type": "code",
   "execution_count": 4,
   "metadata": {},
   "outputs": [
    {
     "name": "stdout",
     "output_type": "stream",
     "text": [
      "\n",
      "📂 Previewing 5 randomly selected transcription files:\n",
      "\n",
      "📄 call_005_001_agent.txt - Content Preview:\n",
      "Agent: Hello, Mark from Payment Solutions. Your account shows a $620 overdue balance.\n",
      "------------------------------------------------------------\n",
      "📄 call_004_001_agent.txt - Content Preview:\n",
      "Agent: Good morning, this is Alex from Debt Relief Services. I’m contacting you about a $200 balance.\n",
      "------------------------------------------------------------\n",
      "📄 call_003_002_client.txt - Content Preview:\n",
      "Client: I cannot pay the full amount now. What are my options?\n",
      "------------------------------------------------------------\n",
      "📄 call_003_005_agent.txt - Content Preview:\n",
      "Agent: Let me check... Yes, 4 installments is possible.\n",
      "------------------------------------------------------------\n",
      "📄 call_001_004_client.txt - Content Preview:\n",
      "Client: That sounds reasonable. Let's proceed.\n",
      "------------------------------------------------------------\n",
      "\n",
      "✅ File preview completed!\n"
     ]
    }
   ],
   "source": [
    "# randomly selects and prints the content of a few .txt files from your prueba_split_transcriptions folder.\n",
    "\n",
    "import random\n",
    "\n",
    "# 📂 Path to split transcriptions folder\n",
    "split_transcriptions_path = r\"C:\\Users\\Claudio\\tfm_call_optimizer\\data\\prueba_split_transcriptions\"\n",
    "\n",
    "# 📄 Get a list of all .txt files\n",
    "split_files = [f for f in os.listdir(split_transcriptions_path) if f.endswith(\".txt\")]\n",
    "\n",
    "# 🔍 Select a few random files (Change the number if needed)\n",
    "num_files_to_preview = min(5, len(split_files))  # Show up to 5 files, or fewer if less exist\n",
    "random_files = random.sample(split_files, num_files_to_preview)\n",
    "\n",
    "# 📌 Print content of selected files\n",
    "print(f\"\\n📂 Previewing {num_files_to_preview} randomly selected transcription files:\\n\")\n",
    "\n",
    "for file in random_files:\n",
    "    file_path = os.path.join(split_transcriptions_path, file)\n",
    "\n",
    "    with open(file_path, \"r\", encoding=\"utf-8\") as f:\n",
    "        content = f.read()\n",
    "\n",
    "    print(f\"📄 {file} - Content Preview:\")\n",
    "    print(f\"{content[:300]}\")  # Show only the first 300 characters\n",
    "    print(\"-\" * 60)  # Separator for readability\n",
    "\n",
    "print(\"\\n✅ File preview completed!\")\n"
   ]
  }
 ],
 "metadata": {
  "kernelspec": {
   "display_name": "venv",
   "language": "python",
   "name": "python3"
  },
  "language_info": {
   "codemirror_mode": {
    "name": "ipython",
    "version": 3
   },
   "file_extension": ".py",
   "mimetype": "text/x-python",
   "name": "python",
   "nbconvert_exporter": "python",
   "pygments_lexer": "ipython3",
   "version": "3.12.3"
  }
 },
 "nbformat": 4,
 "nbformat_minor": 2
}
