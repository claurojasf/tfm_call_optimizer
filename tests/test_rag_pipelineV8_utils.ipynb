{
 "cells": [
  {
   "cell_type": "code",
   "execution_count": 1,
   "metadata": {},
   "outputs": [
    {
     "name": "stderr",
     "output_type": "stream",
     "text": [
      "c:\\Users\\Claudio\\tfm_call_optimizer\\venv\\Lib\\site-packages\\pinecone\\data\\index.py:1: TqdmWarning: IProgress not found. Please update jupyter and ipywidgets. See https://ipywidgets.readthedocs.io/en/stable/user_install.html\n",
      "  from tqdm.autonotebook import tqdm\n",
      "c:\\Users\\Claudio\\tfm_call_optimizer\\tests\\utils.py:32: LangChainDeprecationWarning: The class `HuggingFaceHub` was deprecated in LangChain 0.0.21 and will be removed in 1.0. An updated version of the class exists in the :class:`~langchain-huggingface package and should be used instead. To use it run `pip install -U :class:`~langchain-huggingface` and import as `from :class:`~langchain_huggingface import HuggingFaceEndpoint``.\n",
      "  return HuggingFaceHub(\n",
      "c:\\Users\\Claudio\\tfm_call_optimizer\\tests\\utils.py:55: LangChainDeprecationWarning: The class `HuggingFaceBgeEmbeddings` was deprecated in LangChain 0.2.2 and will be removed in 1.0. An updated version of the class exists in the :class:`~langchain-huggingface package and should be used instead. To use it run `pip install -U :class:`~langchain-huggingface` and import as `from :class:`~langchain_huggingface import HuggingFaceEmbeddings``.\n",
      "  return HuggingFaceBgeEmbeddings(\n",
      "c:\\Users\\Claudio\\tfm_call_optimizer\\tests\\utils.py:64: LangChainDeprecationWarning: The class `Pinecone` was deprecated in LangChain 0.0.18 and will be removed in 1.0. An updated version of the class exists in the :class:`~langchain-pinecone package and should be used instead. To use it run `pip install -U :class:`~langchain-pinecone` and import as `from :class:`~langchain_pinecone import Pinecone``.\n",
      "  return PineconeVectorStore(\n",
      "c:\\Users\\Claudio\\tfm_call_optimizer\\tests\\utils.py:112: LangChainDeprecationWarning: Please see the migration guide at: https://python.langchain.com/docs/versions/migrating_memory/\n",
      "  memory = ConversationBufferMemory(memory_key=\"chat_history\", input_key=\"question\")\n"
     ]
    }
   ],
   "source": [
    "# 📌 Import the functions from utils.py\n",
    "from utils import (\n",
    "    load_env_vars, initialize_llm, initialize_pinecone_client, \n",
    "    get_pinecone_index, initialize_embeddings, initialize_vectorstore,\n",
    "    create_retriever, create_prompt, initialize_rag_chain\n",
    ")\n",
    "\n",
    "# ✅ Load environment variables\n",
    "HUGGINGFACE_API_KEY, PINECONE_API_KEY, PINECONE_INDEX_V2 = load_env_vars()\n",
    "\n",
    "# ✅ Initialize Hugging Face LLM\n",
    "llm = initialize_llm(HUGGINGFACE_API_KEY)\n",
    "\n",
    "# ✅ Initialize Pinecone Client and Index\n",
    "pinecone_client = initialize_pinecone_client(PINECONE_API_KEY)\n",
    "index = get_pinecone_index(pinecone_client, PINECONE_INDEX_V2)\n",
    "\n",
    "# ✅ Initialize Embeddings\n",
    "huggingface_embeddings = initialize_embeddings()\n",
    "\n",
    "# ✅ Initialize Vector Store\n",
    "vectorstore = initialize_vectorstore(index, huggingface_embeddings)\n",
    "\n",
    "# ✅ Define Specific Call ID for Testing\n",
    "test_call_id = \"call_002\"\n",
    "\n",
    "# ✅ Create Retriever with Call ID Filtering\n",
    "retriever = create_retriever(vectorstore, test_call_id)\n",
    "\n",
    "# ✅ Create Prompt\n",
    "PROMPT = create_prompt()\n",
    "\n",
    "# ✅ Initialize RAG Chain\n",
    "retrievalQA = initialize_rag_chain(llm, retriever, PROMPT)"
   ]
  },
  {
   "cell_type": "code",
   "execution_count": null,
   "metadata": {},
   "outputs": [
    {
     "name": "stderr",
     "output_type": "stream",
     "text": [
      "c:\\Users\\Claudio\\tfm_call_optimizer\\venv\\Lib\\site-packages\\huggingface_hub\\utils\\_deprecation.py:131: FutureWarning: 'post' (from 'huggingface_hub.inference._client') is deprecated and will be removed from version '0.31.0'. Making direct POST requests to the inference server is not supported anymore. Please use task methods instead (e.g. `InferenceClient.chat_completion`). If your use case is not supported, please open an issue in https://github.com/huggingface/huggingface_hub.\n",
      "  warnings.warn(warning_message, FutureWarning)\n"
     ]
    },
    {
     "name": "stdout",
     "output_type": "stream",
     "text": [
      "\n",
      "🔹 RAG Response:\n",
      "\n",
      "    You are an expert auditor analyzing call center transcription calls from customer support calls.\n",
      "    You need to give useful insights from the questions an audit expert would make so he can understand how the calls went.\n",
      "\n",
      "    Instructions:\n",
      "    1. Answer based on the provided context (delimited by <ctx> </ctx>) and the chat history (delimited by <hs> </hs>) below.\n",
      "    2. If the information is not in the context, respond: \"I don't have this information.\"\n",
      "    3. **Provide a concise and precise answer.**\n",
      "\n",
      "    Provided Information\n",
      "    -------\n",
      "    <ctx>\n",
      "    Context: Agent: Good afternoon, this is John from Recovery Services. I see your balance of $350 is overdue.\n",
      "Client: Yes, I just lost my job and can’t make a payment right now.\n",
      "Agent: I’m very sorry to hear that. Would a one-month extension help?\n",
      "Client: It would, but I don’t know if I’ll have a job by then.\n",
      "\n",
      "Client: It would, but I don’t know if I’ll have a job by then.\n",
      "Agent: We also offer hardship plans that extend payments over 12 months with no penalties.\n",
      "Client: That sounds better. What would the payments look like?\n",
      "Agent: It would be about $30 per month for 12 months.\n",
      "Client: Okay, but what happens if I miss a payment?\n",
      "\n",
      "Client: Okay, but what happens if I miss a payment?\n",
      "Agent: If you notify us ahead of time, we can reschedule without late fees.\n",
      "Client: That’s really helpful. Will this affect my credit score?\n",
      "Agent: No, as long as you follow the agreement.\n",
      "Client: I’d like to do that, then.\n",
      "Agent: Great! I’ll send you a hardship agreement for signature today.\n",
      "    </ctx>\n",
      "    -------\n",
      "    <hs>\n",
      "    Chat History: \n",
      "    </hs>\n",
      "    -------\n",
      "    Question: What was the resolution of call_002?\n",
      "\n",
      "    Useful Answer:\n",
      "     The resolution was that the agent offered a hardship plan to the client, which would allow them to pay $30 per month for 12 months with no penalties. The client agreed to this plan and the agent will send a hardship agreement for signature.\n"
     ]
    },
    {
     "ename": "",
     "evalue": "",
     "output_type": "error",
     "traceback": [
      "\u001b[1;31mThe Kernel crashed while executing code in the current cell or a previous cell. \n",
      "\u001b[1;31mPlease review the code in the cell(s) to identify a possible cause of the failure. \n",
      "\u001b[1;31mClick <a href='https://aka.ms/vscodeJupyterKernelCrash'>here</a> for more info. \n",
      "\u001b[1;31mView Jupyter <a href='command:jupyter.viewOutput'>log</a> for further details."
     ]
    }
   ],
   "source": [
    "# ✅ Example Query\n",
    "query = \"What was the resolution of call_002?\"\n",
    "response = retrievalQA.invoke({\"query\": query})\n",
    "\n",
    "print(\"\\n🔹 RAG Response:\")\n",
    "print(response['result'])\n"
   ]
  }
 ],
 "metadata": {
  "kernelspec": {
   "display_name": "venv",
   "language": "python",
   "name": "python3"
  },
  "language_info": {
   "codemirror_mode": {
    "name": "ipython",
    "version": 3
   },
   "file_extension": ".py",
   "mimetype": "text/x-python",
   "name": "python",
   "nbconvert_exporter": "python",
   "pygments_lexer": "ipython3",
   "version": "3.12.3"
  }
 },
 "nbformat": 4,
 "nbformat_minor": 2
}
