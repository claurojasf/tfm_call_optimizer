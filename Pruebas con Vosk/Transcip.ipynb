{
 "cells": [
  {
   "cell_type": "code",
   "execution_count": null,
   "metadata": {},
   "outputs": [],
   "source": [
    "# Librerias a instalar\n",
    "#pip install vosk\n",
    "#pip install soundfile"
   ]
  },
  {
   "cell_type": "code",
   "execution_count": 17,
   "metadata": {},
   "outputs": [],
   "source": [
    "# Importando elementos de librerias\n",
    "from vosk import Model, KaldiRecognizer\n",
    "import soundfile as sf\n",
    "import numpy as np"
   ]
  },
  {
   "cell_type": "code",
   "execution_count": null,
   "metadata": {},
   "outputs": [],
   "source": [
    "# Carga de modelo\n",
    "modelo = Model(r\"C:/vosk-model-es-0.42\")"
   ]
  },
  {
   "cell_type": "code",
   "execution_count": 15,
   "metadata": {},
   "outputs": [],
   "source": [
    "# Carga de archivo de audio\n",
    "audio_file = r\"C:/Users/José/Downloads/Audios/2024/12/09/Audio5.WAV\"\n",
    "audio_data, sample_rate = sf.read(audio_file)\n",
    "\n",
    "# sf.read transforma el audio en números (datos) que la computadora logre entender; \n",
    "# audio_date son los datos que indican como se encuentra el sonido en cada punto del audio;\n",
    "# sample_rate es la frecuencia de cada punto "
   ]
  },
  {
   "cell_type": "code",
   "execution_count": null,
   "metadata": {},
   "outputs": [],
   "source": [
    "# Iniciar reconocedor\n",
    "reconocedor = KaldiRecognizer(modelo, sample_rate)\n",
    "\n",
    "#KaldiRecognizer es la clase que procesa el audio y lo convierte en texto; \n",
    "#inicializa un objeto que sabe cómo procesar el audio de acuerdo con el modelo de Vosk y la tasa de muestreo"
   ]
  },
  {
   "cell_type": "code",
   "execution_count": 18,
   "metadata": {},
   "outputs": [
    {
     "name": "stdout",
     "output_type": "stream",
     "text": [
      "Texto transcrito: {\n",
      "  \"text\" : \"tiene una nueva llamada\"\n",
      "}{\n",
      "  \"text\" : \"buenas tardes aulas donde te por colaborar\"\n",
      "}{\n",
      "  \"text\" : \"hola buenas tardes cuando ya te enseña como tal muy bien y tú\"\n",
      "}{\n",
      "  \"text\" : \"waiting mirada que produce el fenómeno natural cuando lo llama celenque cual ánimo de amacuzac industriales vegetales de la troncal árabe claro que sí regálame ya voy a revisar a ver la el poblado cierto arafat\"\n",
      "}{\n",
      "  \"text\" : \"la unión se constituyó liga por eso\"\n",
      "}{\n",
      "  \"text\" : \"\"\n",
      "}{\n",
      "  \"text\" : \"\"\n",
      "}{\n",
      "  \"text\" : \"por ejemplo\"\n",
      "}{\n",
      "  \"text\" : \"\"\n",
      "}{\n",
      "  \"text\" : \"\"\n",
      "}{\n",
      "  \"text\" : \"\"\n",
      "}{\n",
      "  \"text\" : \"sí efectivamente estaba con la troncal\"\n",
      "}{\n",
      "  \"text\" : \"y y um\"\n",
      "}{\n",
      "  \"text\" : \"fenómenos en el contexto de la multitud como llamar a jim\"\n",
      "}{\n",
      "  \"text\" : \"ciber aire con eléctrica\"\n",
      "}{\n",
      "  \"text\" : \"aviso al lector a verificar aquí a ver de pronto si tengo pin o algo\"\n",
      "}{\n",
      "  \"text\" : \"y cualquier cosa cuenta con un les da repelús con mucho gusto\"\n",
      "}{\n",
      "  \"text\" : \"ah\"\n",
      "}{\n",
      "  \"text\" : \"\"\n",
      "}{\n",
      "  \"text\" : \"\"\n",
      "}{\n",
      "  \"text\" : \"\"\n",
      "}\n"
     ]
    }
   ],
   "source": [
    "# Convertir datos de audio a texto\n",
    "texto = \"\"\n",
    "\n",
    "for i in range (0, len(audio_data), 4000):\n",
    "    audio_chunk = audio_data[i:i + 4000]\n",
    "\n",
    "    # Convertir audio_chunk a bytes\n",
    "    audio_chunk_bytes = (np.array(audio_chunk) * 32767).astype(np.int16).tobytes()\n",
    "\n",
    "    if reconocedor.AcceptWaveform(audio_chunk_bytes):\n",
    "        resultado = reconocedor.Result()\n",
    "        texto += resultado\n",
    "\n",
    "print(\"Texto transcrito:\", texto)"
   ]
  }
 ],
 "metadata": {
  "kernelspec": {
   "display_name": "Python 3",
   "language": "python",
   "name": "python3"
  },
  "language_info": {
   "codemirror_mode": {
    "name": "ipython",
    "version": 3
   },
   "file_extension": ".py",
   "mimetype": "text/x-python",
   "name": "python",
   "nbconvert_exporter": "python",
   "pygments_lexer": "ipython3",
   "version": "3.13.2"
  }
 },
 "nbformat": 4,
 "nbformat_minor": 2
}
