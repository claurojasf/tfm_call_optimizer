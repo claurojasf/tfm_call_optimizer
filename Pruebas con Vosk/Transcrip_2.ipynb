{
 "cells": [
  {
   "cell_type": "code",
   "execution_count": null,
   "metadata": {},
   "outputs": [
    {
     "name": "stdout",
     "output_type": "stream",
     "text": [
      "Requirement already satisfied: vosk in c:\\users\\josé\\desktop\\python projects\\transcripcion_env\\lib\\site-packages (0.3.45)\n",
      "Collecting pydub\n",
      "  Downloading pydub-0.25.1-py2.py3-none-any.whl.metadata (1.4 kB)\n",
      "Requirement already satisfied: numpy in c:\\users\\josé\\desktop\\python projects\\transcripcion_env\\lib\\site-packages (2.2.4)\n",
      "Collecting wave\n",
      "  Downloading Wave-0.0.2.zip (38 kB)\n",
      "  Preparing metadata (setup.py): started\n",
      "  Preparing metadata (setup.py): finished with status 'done'\n",
      "Requirement already satisfied: cffi>=1.0 in c:\\users\\josé\\desktop\\python projects\\transcripcion_env\\lib\\site-packages (from vosk) (1.17.1)\n",
      "Requirement already satisfied: requests in c:\\users\\josé\\desktop\\python projects\\transcripcion_env\\lib\\site-packages (from vosk) (2.32.3)\n",
      "Requirement already satisfied: srt in c:\\users\\josé\\desktop\\python projects\\transcripcion_env\\lib\\site-packages (from vosk) (3.5.3)\n",
      "Requirement already satisfied: tqdm in c:\\users\\josé\\desktop\\python projects\\transcripcion_env\\lib\\site-packages (from vosk) (4.67.1)\n",
      "Requirement already satisfied: websockets in c:\\users\\josé\\desktop\\python projects\\transcripcion_env\\lib\\site-packages (from vosk) (15.0.1)\n",
      "Requirement already satisfied: pycparser in c:\\users\\josé\\desktop\\python projects\\transcripcion_env\\lib\\site-packages (from cffi>=1.0->vosk) (2.22)\n",
      "Requirement already satisfied: charset-normalizer<4,>=2 in c:\\users\\josé\\desktop\\python projects\\transcripcion_env\\lib\\site-packages (from requests->vosk) (3.4.1)\n",
      "Requirement already satisfied: idna<4,>=2.5 in c:\\users\\josé\\desktop\\python projects\\transcripcion_env\\lib\\site-packages (from requests->vosk) (3.10)\n",
      "Requirement already satisfied: urllib3<3,>=1.21.1 in c:\\users\\josé\\desktop\\python projects\\transcripcion_env\\lib\\site-packages (from requests->vosk) (2.3.0)\n",
      "Requirement already satisfied: certifi>=2017.4.17 in c:\\users\\josé\\desktop\\python projects\\transcripcion_env\\lib\\site-packages (from requests->vosk) (2025.1.31)\n",
      "Requirement already satisfied: colorama in c:\\users\\josé\\desktop\\python projects\\transcripcion_env\\lib\\site-packages (from tqdm->vosk) (0.4.6)\n",
      "Downloading pydub-0.25.1-py2.py3-none-any.whl (32 kB)\n",
      "Building wheels for collected packages: wave\n",
      "  Building wheel for wave (setup.py): started\n",
      "  Building wheel for wave (setup.py): finished with status 'done'\n",
      "  Created wheel for wave: filename=wave-0.0.2-py3-none-any.whl size=1278 sha256=644f20a44d481b5900c272107dd8e0824289eb10bb2825248cc43f65e5006c6d\n",
      "  Stored in directory: c:\\users\\josé\\appdata\\local\\pip\\cache\\wheels\\bf\\b5\\5c\\a8ac9d46e3fc787b2dea31709d43df0622654596b4f2e236c2\n",
      "Successfully built wave\n",
      "Installing collected packages: wave, pydub\n",
      "Successfully installed pydub-0.25.1 wave-0.0.2\n",
      "Note: you may need to restart the kernel to use updated packages.\n"
     ]
    }
   ],
   "source": [
    "#pip install vosk pydub numpy wave"
   ]
  },
  {
   "cell_type": "code",
   "execution_count": 37,
   "metadata": {},
   "outputs": [
    {
     "name": "stdout",
     "output_type": "stream",
     "text": [
      "Requirement already satisfied: ffmpeg in c:\\users\\josé\\desktop\\python projects\\transcripcion_env\\lib\\site-packages (1.4)\n",
      "Note: you may need to restart the kernel to use updated packages.\n"
     ]
    }
   ],
   "source": [
    "pip install ffmpeg"
   ]
  },
  {
   "cell_type": "code",
   "execution_count": 4,
   "metadata": {},
   "outputs": [
    {
     "name": "stdout",
     "output_type": "stream",
     "text": [
      "Requirement already satisfied: pydub in c:\\users\\josé\\desktop\\python projects\\transcripcion_env\\lib\\site-packages (0.25.1)\n",
      "Note: you may need to restart the kernel to use updated packages.\n"
     ]
    }
   ],
   "source": [
    "pip install pydub"
   ]
  },
  {
   "cell_type": "code",
   "execution_count": 6,
   "metadata": {},
   "outputs": [],
   "source": [
    "import soundfile as sf\n",
    "import wave\n",
    "import json\n",
    "from vosk import Model, KaldiRecognizer\n",
    "from pydub import AudioSegment"
   ]
  },
  {
   "cell_type": "code",
   "execution_count": 6,
   "metadata": {},
   "outputs": [],
   "source": [
    "# Carga del modelo Vosk\n",
    "modelo = Model(r\"C:/vosk-model-es-0.42\")"
   ]
  },
  {
   "cell_type": "code",
   "execution_count": 8,
   "metadata": {},
   "outputs": [],
   "source": [
    "# Carga el archivo de audio\n",
    "audio_path = r\"C:/Users/José/Downloads/audio_prueba_primero.WAV\""
   ]
  },
  {
   "cell_type": "markdown",
   "metadata": {},
   "source": [
    "Se convierte el audio porque el formato original no lo reconoce el modelo"
   ]
  },
  {
   "cell_type": "code",
   "execution_count": 34,
   "metadata": {},
   "outputs": [],
   "source": [
    "# Carga el audio y lo guarda en formato compatible (16kHz, mono)\n",
    "data, samplerate = sf.read(audio_path)\n",
    "converted_audio_path = r\"C:/Users/José/Downloads/audio_convertido_1.wav\"\n",
    "sf.write(converted_audio_path, data, 16000, subtype='PCM_16', format='WAV')"
   ]
  },
  {
   "cell_type": "code",
   "execution_count": 27,
   "metadata": {},
   "outputs": [],
   "source": [
    "# Carga el archivo convertido\n",
    "wf = wave.open(converted_audio_path, \"rb\")\n",
    "\n",
    "# Creamos el reconocedor\n",
    "rec = KaldiRecognizer(modelo, wf.getframerate())"
   ]
  },
  {
   "cell_type": "code",
   "execution_count": 28,
   "metadata": {},
   "outputs": [
    {
     "name": "stdout",
     "output_type": "stream",
     "text": [
      "✅ Transcripción guardada en 'transcripcion_resultado.txt'\n"
     ]
    }
   ],
   "source": [
    "texto_transcrito = \"\"  # Aseguramos que esta variable exista desde el principio\n",
    "\n",
    "# Procesa el audio en partes\n",
    "while True:\n",
    "    data = wf.readframes(4000)\n",
    "    if len(data) == 0:\n",
    "        break\n",
    "    if rec.AcceptWaveform(data):\n",
    "        result = json.loads(rec.Result())\n",
    "        texto_transcrito += result.get(\"text\", \"\") + \" \"\n",
    "\n",
    "# Captura el resultado final\n",
    "final_result = json.loads(rec.FinalResult())\n",
    "texto_transcrito += final_result.get(\"text\", \"\")\n",
    "\n",
    "# Guarda la transcripción en un archivo de texto\n",
    "with open(\"transcripcion_resultado.txt\", \"w\", encoding=\"utf-8\") as file:\n",
    "    file.write(texto_transcrito)\n",
    "\n",
    "print(\"✅ Transcripción guardada en 'transcripcion_resultado.txt'\")"
   ]
  },
  {
   "cell_type": "markdown",
   "metadata": {},
   "source": [
    "El performance de la transacripción no fue el esperado debido a que el audio convertido es de mala calidad y no se comprende. Se procede a intentar que el modelo tome el audio original. "
   ]
  }
 ],
 "metadata": {
  "kernelspec": {
   "display_name": "transcripcion_env",
   "language": "python",
   "name": "python3"
  },
  "language_info": {
   "codemirror_mode": {
    "name": "ipython",
    "version": 3
   },
   "file_extension": ".py",
   "mimetype": "text/x-python",
   "name": "python",
   "nbconvert_exporter": "python",
   "pygments_lexer": "ipython3",
   "version": "3.13.2"
  }
 },
 "nbformat": 4,
 "nbformat_minor": 2
}
