{
 "cells": [
  {
   "cell_type": "markdown",
   "metadata": {},
   "source": [
    "# Query de usuario, extraer transcripciones relevantes y respuesta de LLM."
   ]
  },
  {
   "cell_type": "code",
   "execution_count": null,
   "metadata": {},
   "outputs": [],
   "source": [
    "import openai\n",
    "\n",
    "def retrieve_and_generate_response(user_query):\n",
    "    # Convert user query into an embedding\n",
    "    query_embedding = openai.Embedding.create(input=user_query, model=\"text-embedding-ada-002\")[\"data\"][0][\"embedding\"]\n",
    "\n",
    "    # Search Pinecone for similar transcriptions\n",
    "    search_results = index.query(vector=query_embedding, top_k=3, include_metadata=True)\n",
    "\n",
    "    # Retrieve the most relevant transcriptions\n",
    "    retrieved_texts = [match[\"metadata\"][\"text\"] for match in search_results[\"matches\"]]\n",
    "\n",
    "    # Combine retrieved texts for context\n",
    "    context = \"\\n\".join(retrieved_texts)\n",
    "\n",
    "    # Pass retrieved context to DeepSeek LLM\n",
    "    response = openai.ChatCompletion.create(\n",
    "        model=\"gpt-4\",  # Replace with \"deepseek\" if using DeepSeek LLM\n",
    "        messages=[\n",
    "            {\"role\": \"system\", \"content\": \"You are an AI assistant that helps call center agents improve their interactions.\"},\n",
    "            {\"role\": \"user\", \"content\": f\"Context:\\n{context}\\n\\nUser Question: {user_query}\"}\n",
    "        ]\n",
    "    )\n",
    "\n",
    "    return response[\"choices\"][0][\"message\"][\"content\"]\n",
    "\n",
    "# Example Query\n",
    "user_input = \"What was the most common customer complaint?\"\n",
    "answer = retrieve_and_generate_response(user_input)\n",
    "print(\"Chatbot Response:\", answer)\n"
   ]
  }
 ],
 "metadata": {
  "kernelspec": {
   "display_name": "Python 3",
   "language": "python",
   "name": "python3"
  },
  "language_info": {
   "name": "python",
   "version": "3.12.3"
  }
 },
 "nbformat": 4,
 "nbformat_minor": 2
}
