{
 "cells": [
  {
   "cell_type": "markdown",
   "metadata": {},
   "source": [
    "# Carga de audios, transcripción y almacenamiento"
   ]
  },
  {
   "cell_type": "code",
   "execution_count": null,
   "metadata": {},
   "outputs": [],
   "source": [
    "import os\n",
    "import mysql.connector\n",
    "import whisper\n",
    "\n",
    "# Paths\n",
    "audio_folder = \"data/audio/\"\n",
    "transcription_folder = \"data/transcriptions/\"\n",
    "\n",
    "# Connect to MySQL\n",
    "conn = mysql.connector.connect(\n",
    "    host=\"your-mysql-server\",\n",
    "    user=\"your-username\",\n",
    "    password=\"your-password\",\n",
    "    database=\"your-database\"\n",
    ")\n",
    "cursor = conn.cursor()\n",
    "\n",
    "# Load Whisper model\n",
    "model = whisper.load_model(\"medium\")\n",
    "\n",
    "for filename in os.listdir(audio_folder):\n",
    "    if filename.endswith(\".wav\") or filename.endswith(\".mp3\"):\n",
    "        audio_path = os.path.join(audio_folder, filename)\n",
    "        transcription_path = os.path.join(transcription_folder, filename.replace(\".wav\", \".txt\").replace(\".mp3\", \".txt\"))\n",
    "\n",
    "        # Transcribe audio\n",
    "        result = model.transcribe(audio_path)\n",
    "        text = result[\"text\"]\n",
    "\n",
    "        # Save transcription to a .txt file\n",
    "        with open(transcription_path, \"w\", encoding=\"utf-8\") as f:\n",
    "            f.write(text)\n",
    "\n",
    "        # Insert transcription into MySQL\n",
    "        sql = \"\"\"\n",
    "        INSERT INTO transcriptions (call_id, transcription, status)\n",
    "        VALUES (%s, %s, %s)\n",
    "        \"\"\"\n",
    "        values = (filename.replace(\".wav\", \"\").replace(\".mp3\", \"\"), text, \"Pending\")\n",
    "\n",
    "        cursor.execute(sql, values)\n",
    "        conn.commit()\n",
    "\n",
    "        print(f\"Saved transcription: {transcription_path} & stored in database.\")\n",
    "\n",
    "cursor.close()\n",
    "conn.close()\n",
    "\n",
    "\n"
   ]
  }
 ],
 "metadata": {
  "kernelspec": {
   "display_name": "Python 3",
   "language": "python",
   "name": "python3"
  },
  "language_info": {
   "name": "python",
   "version": "3.12.3"
  }
 },
 "nbformat": 4,
 "nbformat_minor": 2
}
