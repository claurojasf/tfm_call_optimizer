{
 "cells": [
  {
   "cell_type": "markdown",
   "metadata": {},
   "source": [
    "# Carga de audios, transcripción, limpieza y almacenamiento"
   ]
  },
  {
   "cell_type": "code",
   "execution_count": 1,
   "metadata": {},
   "outputs": [],
   "source": [
    "import os\n",
    "#import mysql.connector\n",
    "import re\n",
    "\n",
    "# Install whisper package\n",
    "#%pip install openai-whisper\n",
    "\n",
    "import whisper\n",
    "import subprocess"
   ]
  },
  {
   "cell_type": "code",
   "execution_count": 2,
   "metadata": {},
   "outputs": [],
   "source": [
    "# Folderes donde se ubican los audios y donde se almacenan los txt\n",
    "audio_folder = \"C:/Users/Usuario/tfm_call_optimizer/audios/\"\n",
    "transcription_folder = \"C:/Users/Usuario/tfm_call_optimizer/transcripciones\""
   ]
  },
  {
   "cell_type": "code",
   "execution_count": 3,
   "metadata": {},
   "outputs": [
    {
     "name": "stderr",
     "output_type": "stream",
     "text": [
      "c:\\Users\\Usuario\\anaconda3\\envs\\chatbot_rag\\Lib\\site-packages\\whisper\\__init__.py:150: FutureWarning: You are using `torch.load` with `weights_only=False` (the current default value), which uses the default pickle module implicitly. It is possible to construct malicious pickle data which will execute arbitrary code during unpickling (See https://github.com/pytorch/pytorch/blob/main/SECURITY.md#untrusted-models for more details). In a future release, the default value for `weights_only` will be flipped to `True`. This limits the functions that could be executed during unpickling. Arbitrary objects will no longer be allowed to be loaded via this mode unless they are explicitly allowlisted by the user via `torch.serialization.add_safe_globals`. We recommend you start setting `weights_only=True` for any use case where you don't have full control of the loaded file. Please open an issue on GitHub for any issues related to this experimental feature.\n",
      "  checkpoint = torch.load(fp, map_location=device)\n"
     ]
    }
   ],
   "source": [
    "# Load Whisper model\n",
    "model = whisper.load_model(\"medium\")"
   ]
  },
  {
   "cell_type": "code",
   "execution_count": 4,
   "metadata": {},
   "outputs": [],
   "source": [
    "def clean_transcription(text):\n",
    "    \"\"\"\n",
    "    Limpia la transcripción eliminando muletillas, espacios extra\n",
    "    y artefactos no deseados.\n",
    "    \"\"\"\n",
    "    filler_words = [\"eh\", \"mmm\", \"este\", \"o sea\", \"pues\", \"bueno\", \"entonces\", \"verdad\", \"sabes\", \"digo\"]\n",
    "    filler_pattern = r'\\b(?:' + '|'.join(filler_words) + r')\\b'\n",
    "\n",
    "    text = re.sub(filler_pattern, '', text, flags=re.IGNORECASE)  # Elimina muletillas\n",
    "    text = re.sub(r'\\s+', ' ', text)  # Reemplaza múltiples espacios por uno solo\n",
    "    text = re.sub(r'([.?!])\\1+', r'\\1', text)  # Elimina repeticiones innecesarias de signos de puntuación\n",
    "    text = text.strip()  # Elimina espacios al inicio y al final\n",
    "\n",
    "    return text\n"
   ]
  },
  {
   "cell_type": "code",
   "execution_count": 5,
   "metadata": {},
   "outputs": [
    {
     "name": "stderr",
     "output_type": "stream",
     "text": [
      "c:\\Users\\Usuario\\anaconda3\\envs\\chatbot_rag\\Lib\\site-packages\\whisper\\transcribe.py:126: UserWarning: FP16 is not supported on CPU; using FP32 instead\n",
      "  warnings.warn(\"FP16 is not supported on CPU; using FP32 instead\")\n"
     ]
    }
   ],
   "source": [
    "for filename in os.listdir(audio_folder):\n",
    "    if filename.endswith(\".wav\") or filename.endswith(\".mp3\"):\n",
    "        audio_path = os.path.join(audio_folder, filename)\n",
    "        transcription_path = os.path.join(transcription_folder, filename.replace(\".wav\", \".txt\").replace(\".mp3\", \".txt\"))\n",
    "        result = model.transcribe(audio_path)\n",
    "        raw_text = result[\"text\"]\n",
    "\n",
    "        cleaned_text = clean_transcription(raw_text)\n",
    "        with open(transcription_path, \"w\", encoding=\"utf-8\") as f:\n",
    "            f.write(cleaned_text)\n"
   ]
  },
  {
   "cell_type": "code",
   "execution_count": 4,
   "metadata": {},
   "outputs": [
    {
     "name": "stdout",
     "output_type": "stream",
     "text": [
      "✅ El archivo se ha convertido exitosamente a: C:/Users/Usuario/tfm_call_optimizer/audios/MESAVOIP_20250114-163456_4007_6044038280-all.mp3\n"
     ]
    }
   ],
   "source": [
    "# Ruta del archivo WAV\n",
    "input_audio_path = \"C:/Users/Usuario/tfm_call_optimizer/audios/MESAVOIP_20250114-163456_4007_6044038280-all.WAV\"\n",
    "output_audio_path = \"C:/Users/Usuario/tfm_call_optimizer/audios/MESAVOIP_20250114-163456_4007_6044038280-all.mp3\"\n",
    "\n",
    "# Comando para convertir WAV a MP3\n",
    "ffmpeg_command = [\n",
    "    r\"C:\\Users\\Usuario\\ffmpeg-2025-03-06-git-696ea1c223-essentials_build\\bin\\ffmpeg.exe\",\n",
    "    \"-i\", input_audio_path,\n",
    "    output_audio_path\n",
    "]\n",
    "\n",
    "# Ejecutar el comando\n",
    "try:\n",
    "    subprocess.run(ffmpeg_command, check=True)\n",
    "    print(f\"✅ El archivo se ha convertido exitosamente a: {output_audio_path}\")\n",
    "except subprocess.CalledProcessError as e:\n",
    "    print(f\"❌ Error en la conversión: {e}\")\n",
    "\n",
    "# Ahora, usa este archivo convertido para transcribirlo con whisper\n",
    "audio_path = output_audio_path"
   ]
  },
  {
   "cell_type": "code",
   "execution_count": 7,
   "metadata": {},
   "outputs": [
    {
     "ename": "NameError",
     "evalue": "name 'cleaned_text' is not defined",
     "output_type": "error",
     "traceback": [
      "\u001b[1;31m---------------------------------------------------------------------------\u001b[0m",
      "\u001b[1;31mNameError\u001b[0m                                 Traceback (most recent call last)",
      "Cell \u001b[1;32mIn[7], line 14\u001b[0m\n\u001b[0;32m      9\u001b[0m \u001b[38;5;66;03m# Limpiar transcripción\u001b[39;00m\n\u001b[0;32m     10\u001b[0m \u001b[38;5;66;03m#cleaned_text = clean_transcription(raw_text)\u001b[39;00m\n\u001b[0;32m     11\u001b[0m \n\u001b[0;32m     12\u001b[0m \u001b[38;5;66;03m# Guardar en archivo de texto\u001b[39;00m\n\u001b[0;32m     13\u001b[0m \u001b[38;5;28;01mwith\u001b[39;00m \u001b[38;5;28mopen\u001b[39m(transcription_path, \u001b[38;5;124m\"\u001b[39m\u001b[38;5;124mw\u001b[39m\u001b[38;5;124m\"\u001b[39m, encoding\u001b[38;5;241m=\u001b[39m\u001b[38;5;124m\"\u001b[39m\u001b[38;5;124mutf-8\u001b[39m\u001b[38;5;124m\"\u001b[39m) \u001b[38;5;28;01mas\u001b[39;00m f:\n\u001b[1;32m---> 14\u001b[0m     f\u001b[38;5;241m.\u001b[39mwrite(\u001b[43mcleaned_text\u001b[49m)\n\u001b[0;32m     16\u001b[0m \u001b[38;5;28mprint\u001b[39m(\u001b[38;5;124mf\u001b[39m\u001b[38;5;124m\"\u001b[39m\u001b[38;5;124m✅ Saved cleaned transcription: \u001b[39m\u001b[38;5;132;01m{\u001b[39;00mtranscription_path\u001b[38;5;132;01m}\u001b[39;00m\u001b[38;5;124m\"\u001b[39m)\n",
      "\u001b[1;31mNameError\u001b[0m: name 'cleaned_text' is not defined"
     ]
    }
   ],
   "source": [
    "filename = \"MESAVOIP_20250114-163456_4007_6044038280-all.wav\"  # Nombre del archivo de prueba\n",
    "audio_path = os.path.join(audio_folder, filename)\n",
    "transcription_path = os.path.join(transcription_folder, filename.replace(\".wav\", \".txt\"))\n",
    "\n",
    "# Transcribir audio\n",
    "result = model.transcribe(audio_path)\n",
    "raw_text = result[\"text\"]\n",
    "\n",
    "# Limpiar transcripción\n",
    "#cleaned_text = clean_transcription(raw_text)\n",
    "\n",
    "# Guardar en archivo de texto\n",
    "with open(transcription_path, \"w\", encoding=\"utf-8\") as f:\n",
    "    f.write(cleaned_text)\n",
    "\n",
    "print(f\"✅ Saved cleaned transcription: {transcription_path}\")\n"
   ]
  },
  {
   "cell_type": "code",
   "execution_count": 6,
   "metadata": {},
   "outputs": [
    {
     "name": "stdout",
     "output_type": "stream",
     "text": [
      "Texto transcrito:  Bienvenidos a la Fundación Universitaria de las Artes, un espacio para la creatividad. Si conoces el número de la expedición, pide esa información sobre nuestros cursos, diplomados y carreras profesionales, Marche 1. Para procesos de admisión, en registro, matrículas o certificados... ... ... ... ... ... ... ... ... ... ... ... ... ... ... ... ... ... ... ... ... ... ... ... ... Hola. Hola. Hola, caro. Te escucho, me escuchas. Sí, invito. Mira, tengo una línea en Facebook y tengo también una de WhatsApp. Exacto. Muchas gracias. Una de WhatsApp, la 317. ¿Ok? 699... 649. ¿6 qué? 649. 649. 0897. 0897. 0897. Listo. Sí, señora, está la línea en WhatsApp y la escribo en la 604. 604. 322. 322. 82, 83. 82, 83. Perfecto, Carolina. Muchas gracias, te lo agradezco. Muchísimas gracias, te lo agradezco. Muchísimas gracias, te lo agradezco. Igualmente, felicidades.\n",
      "✅ Transcripción guardada en: C:/Users/Usuario/tfm_call_optimizer/transcripciones/MESAVOIP_20250114-163456_4007_6044038280-all.txt\n"
     ]
    }
   ],
   "source": [
    "# Transcribir el archivo de audio convertido\n",
    "audio_path = \"C:/Users/Usuario/tfm_call_optimizer/audios/MESAVOIP_20250114-163456_4007_6044038280-all.mp3\"\n",
    "\n",
    "# Transcribir audio\n",
    "result = model.transcribe(audio_path)\n",
    "\n",
    "# Obtener el texto transcrito\n",
    "raw_text = result[\"text\"]\n",
    "\n",
    "# Imprimir el texto transcrito\n",
    "print(f\"Texto transcrito: {raw_text}\")\n",
    "\n",
    "# Guardar la transcripción en un archivo de texto\n",
    "transcription_path = \"C:/Users/Usuario/tfm_call_optimizer/transcripciones/MESAVOIP_20250114-163456_4007_6044038280-all.txt\"\n",
    "with open(transcription_path, \"w\", encoding=\"utf-8\") as f:\n",
    "    f.write(raw_text)\n",
    "\n",
    "print(f\"✅ Transcripción guardada en: {transcription_path}\")"
   ]
  },
  {
   "cell_type": "markdown",
   "metadata": {},
   "source": [
    "# Connect to MySQL\n",
    "conn = mysql.connector.connect(\n",
    "    host=\"your-mysql-server\",\n",
    "    user=\"your-username\",\n",
    "    password=\"your-password\",\n",
    "    database=\"your-database\"\n",
    ")\n",
    "cursor = conn.cursor()"
   ]
  },
  {
   "cell_type": "markdown",
   "metadata": {},
   "source": [
    "# Asegurémonos de que `ffmpeg` esté en el PATH antes de la transcripción\n",
    "ffmpeg_path = r\"C:\\Users\\Usuario\\ffmpeg-2025-03-06-git-696ea1c223-essentials_build\\bin\\ffmpeg.exe\"\n",
    "\n",
    "# Verificar si ffmpeg está accesible desde Python\n",
    "try:\n",
    "    subprocess.run([ffmpeg_path, \"-version\"], check=True, capture_output=True)\n",
    "    print(\"✅ ffmpeg está correctamente accesible.\")\n",
    "except FileNotFoundError:\n",
    "    print(\"❌ No se pudo encontrar ffmpeg en la ruta especificada.\")\n",
    "    exit()\n"
   ]
  },
  {
   "cell_type": "markdown",
   "metadata": {},
   "source": [
    "# Verificar si ffmpeg está accesible desde Python\n",
    "try:\n",
    "    subprocess.run([ffmpeg_path, \"-version\"], check=True, capture_output=True)\n",
    "    print(\"✅ ffmpeg está correctamente accesible.\")\n",
    "except FileNotFoundError:\n",
    "    print(\"❌ No se pudo encontrar ffmpeg en la ruta especificada.\")\n",
    "    exit()"
   ]
  },
  {
   "cell_type": "markdown",
   "metadata": {},
   "source": [
    "# Asegurémonos de que `ffmpeg` esté en el PATH antes de la transcripción\n",
    "ffmpeg_path = r\"C:\\Users\\Usuario\\ffmpeg-2025-03-06-git-696ea1c223-essentials_build\\bin\\ffmpeg.exe\""
   ]
  },
  {
   "cell_type": "markdown",
   "metadata": {},
   "source": [
    "# Configurar ffmpeg manualmente en whisper\n",
    "whisper.utils.ffmpeg_bin = ffmpeg_path  # Esto le dice a whisper dónde encontrar ffmpeg"
   ]
  },
  {
   "cell_type": "code",
   "execution_count": null,
   "metadata": {},
   "outputs": [
    {
     "ename": "NameError",
     "evalue": "name 'clean_transcription' is not defined",
     "output_type": "error",
     "traceback": [
      "\u001b[1;31m---------------------------------------------------------------------------\u001b[0m",
      "\u001b[1;31mNameError\u001b[0m                                 Traceback (most recent call last)",
      "Cell \u001b[1;32mIn[10], line 2\u001b[0m\n\u001b[0;32m      1\u001b[0m \u001b[38;5;66;03m# Limpiar transcripción\u001b[39;00m\n\u001b[1;32m----> 2\u001b[0m cleaned_text \u001b[38;5;241m=\u001b[39m \u001b[43mclean_transcription\u001b[49m(raw_text)\n\u001b[0;32m      4\u001b[0m \u001b[38;5;66;03m# Guardar en archivo de texto\u001b[39;00m\n\u001b[0;32m      5\u001b[0m \u001b[38;5;28;01mwith\u001b[39;00m \u001b[38;5;28mopen\u001b[39m(transcription_path, \u001b[38;5;124m\"\u001b[39m\u001b[38;5;124mw\u001b[39m\u001b[38;5;124m\"\u001b[39m, encoding\u001b[38;5;241m=\u001b[39m\u001b[38;5;124m\"\u001b[39m\u001b[38;5;124mutf-8\u001b[39m\u001b[38;5;124m\"\u001b[39m) \u001b[38;5;28;01mas\u001b[39;00m f:\n",
      "\u001b[1;31mNameError\u001b[0m: name 'clean_transcription' is not defined"
     ]
    }
   ],
   "source": [
    "# Limpiar transcripción\n",
    "cleaned_text = clean_transcription(raw_text)\n",
    "\n",
    "# Guardar en archivo de texto\n",
    "with open(transcription_path, \"w\", encoding=\"utf-8\") as f:\n",
    "    f.write(cleaned_text)\n",
    "\n",
    "print(f\"✅ Saved cleaned transcription: {transcription_path}\")"
   ]
  },
  {
   "cell_type": "markdown",
   "metadata": {},
   "source": [
    "\n",
    "# Function to clean transcription text\n",
    "def clean_transcription(text):\n",
    "    \"\"\"\n",
    "    Cleans the transcription text by removing filler words, extra spaces,\n",
    "    and unwanted artifacts.\n",
    "    \"\"\"\n",
    "    # Define common filler words (can be extended)\n",
    "    filler_words = [\"eh\", \"mmm\", \"este\", \"o sea\", \"pues\", \"bueno\", \"entonces\", \"verdad\", \"sabes\", \"digo\"]\n",
    "    filler_pattern = r'\\b(?:' + '|'.join(filler_words) + r')\\b'\n",
    "\n",
    "    # Remove filler words\n",
    "    text = re.sub(filler_pattern, '', text, flags=re.IGNORECASE)\n",
    "\n",
    "    # Remove multiple spaces\n",
    "    text = re.sub(r'\\s+', ' ', text)\n",
    "\n",
    "    # Remove unnecessary punctuation repetition (e.g., \"Hello....\" → \"Hello.\")\n",
    "    text = re.sub(r'([.?!])\\1+', r'\\1', text)\n",
    "\n",
    "    # Strip leading/trailing spaces\n",
    "    text = text.strip()\n",
    "\n",
    "    return text\n",
    "\n"
   ]
  },
  {
   "cell_type": "markdown",
   "metadata": {},
   "source": [
    "for filename in os.listdir(audio_folder):\n",
    "    if filename.endswith(\".wav\") or filename.endswith(\".mp3\"):\n",
    "        audio_path = os.path.join(audio_folder, filename)\n",
    "        transcription_path = os.path.join(transcription_folder, filename.replace(\".wav\", \".txt\").replace(\".mp3\", \".txt\"))\n",
    "\n",
    "        # Transcribe audio\n",
    "        result = model.transcribe(audio_path)\n",
    "        raw_text = result[\"text\"]\n",
    "\n",
    "        # Clean transcription text\n",
    "        cleaned_text = clean_transcription(raw_text)\n",
    "\n",
    "        # Save cleaned transcription to a .txt file\n",
    "        with open(transcription_path, \"w\", encoding=\"utf-8\") as f:\n",
    "            f.write(cleaned_text)\n",
    "\n",
    "        # Insert cleaned transcription into MySQL\n",
    "        sql = \"\"\"\n",
    "        INSERT INTO transcriptions (call_id, transcription, status)\n",
    "        VALUES (%s, %s, %s)\n",
    "        \"\"\"\n",
    "        values = (filename.replace(\".wav\", \"\").replace(\".mp3\", \"\"), cleaned_text, \"Pending\")\n",
    "\n",
    "        cursor.execute(sql, values)\n",
    "        conn.commit()\n",
    "\n",
    "        print(f\"✅ Saved cleaned transcription: {transcription_path} & stored in database.\")\n",
    "\n",
    "cursor.close()\n",
    "conn.close()\n"
   ]
  }
 ],
 "metadata": {
  "kernelspec": {
   "display_name": "chatbot_rag",
   "language": "python",
   "name": "python3"
  },
  "language_info": {
   "codemirror_mode": {
    "name": "ipython",
    "version": 3
   },
   "file_extension": ".py",
   "mimetype": "text/x-python",
   "name": "python",
   "nbconvert_exporter": "python",
   "pygments_lexer": "ipython3",
   "version": "3.11.9"
  }
 },
 "nbformat": 4,
 "nbformat_minor": 2
}
