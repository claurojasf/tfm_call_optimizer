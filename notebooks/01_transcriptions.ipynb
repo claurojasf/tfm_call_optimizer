{
 "cells": [
  {
   "cell_type": "markdown",
   "metadata": {},
   "source": [
    "# Carga de audios, transcripción, limpieza y almacenamiento"
   ]
  },
  {
   "cell_type": "code",
   "execution_count": 4,
   "metadata": {},
   "outputs": [],
   "source": [
    "import os\n",
    "#import mysql.connector\n",
    "import re\n",
    "\n",
    "# Install whisper package\n",
    "#%pip install openai-whisper\n",
    "\n",
    "import whisper\n",
    "import subprocess"
   ]
  },
  {
   "cell_type": "code",
   "execution_count": 5,
   "metadata": {},
   "outputs": [],
   "source": [
    "# Folderes donde se ubican los audios y donde se almacenan los txt\n",
    "audio_folder = \"C:/Users/Usuario/tfm_call_optimizer/audios/\"\n",
    "transcription_folder = \"C:/Users/Usuario/tfm_call_optimizer/transcripciones\""
   ]
  },
  {
   "cell_type": "markdown",
   "metadata": {},
   "source": [
    "# Connect to MySQL\n",
    "conn = mysql.connector.connect(\n",
    "    host=\"your-mysql-server\",\n",
    "    user=\"your-username\",\n",
    "    password=\"your-password\",\n",
    "    database=\"your-database\"\n",
    ")\n",
    "cursor = conn.cursor()"
   ]
  },
  {
   "cell_type": "code",
   "execution_count": 6,
   "metadata": {},
   "outputs": [
    {
     "name": "stdout",
     "output_type": "stream",
     "text": [
      "✅ ffmpeg está correctamente accesible.\n"
     ]
    }
   ],
   "source": [
    "# Asegurémonos de que `ffmpeg` esté en el PATH antes de la transcripción\n",
    "ffmpeg_path = r\"C:\\Users\\Usuario\\ffmpeg-2025-03-06-git-696ea1c223-essentials_build\\bin\\ffmpeg.exe\"\n",
    "\n",
    "# Verificar si ffmpeg está accesible desde Python\n",
    "try:\n",
    "    subprocess.run([ffmpeg_path, \"-version\"], check=True, capture_output=True)\n",
    "    print(\"✅ ffmpeg está correctamente accesible.\")\n",
    "except FileNotFoundError:\n",
    "    print(\"❌ No se pudo encontrar ffmpeg en la ruta especificada.\")\n",
    "    exit()\n"
   ]
  },
  {
   "cell_type": "code",
   "execution_count": 7,
   "metadata": {},
   "outputs": [
    {
     "name": "stdout",
     "output_type": "stream",
     "text": [
      "Buscando archivo en: C:/Users/Usuario/tfm_call_optimizer/audios/3_nodasolucion_vivi.wav\n",
      "✅ El archivo existe.\n"
     ]
    }
   ],
   "source": [
    "filename = \"3_nodasolucion_vivi.wav\"  # Nombre del archivo de prueba con extensión\n",
    "audio_path = os.path.join(audio_folder, filename)\n",
    "transcription_path = os.path.join(transcription_folder, filename.replace(\".wav\", \".txt\"))\n",
    "\n",
    "print(f\"Buscando archivo en: {audio_path}\")\n",
    "if os.path.exists(audio_path):\n",
    "    print(\"✅ El archivo existe.\")\n",
    "else:\n",
    "    print(\"❌ El archivo NO existe. Revisa la ruta.\")\n",
    "\n",
    "# Transcribir audio\n",
    "#result = model.transcribe(audio_path,shell=True)\n",
    "#raw_text = result[\"text\"]\n"
   ]
  },
  {
   "cell_type": "code",
   "execution_count": 8,
   "metadata": {},
   "outputs": [
    {
     "name": "stdout",
     "output_type": "stream",
     "text": [
      "✅ ffmpeg está correctamente accesible.\n"
     ]
    }
   ],
   "source": [
    "# Verificar si ffmpeg está accesible desde Python\n",
    "try:\n",
    "    subprocess.run([ffmpeg_path, \"-version\"], check=True, capture_output=True)\n",
    "    print(\"✅ ffmpeg está correctamente accesible.\")\n",
    "except FileNotFoundError:\n",
    "    print(\"❌ No se pudo encontrar ffmpeg en la ruta especificada.\")\n",
    "    exit()"
   ]
  },
  {
   "cell_type": "code",
   "execution_count": 9,
   "metadata": {},
   "outputs": [],
   "source": [
    "# Asegurémonos de que `ffmpeg` esté en el PATH antes de la transcripción\n",
    "ffmpeg_path = r\"C:\\Users\\Usuario\\ffmpeg-2025-03-06-git-696ea1c223-essentials_build\\bin\\ffmpeg.exe\""
   ]
  },
  {
   "cell_type": "code",
   "execution_count": 10,
   "metadata": {},
   "outputs": [],
   "source": [
    "# Configurar ffmpeg manualmente en whisper\n",
    "whisper.utils.ffmpeg_bin = ffmpeg_path  # Esto le dice a whisper dónde encontrar ffmpeg"
   ]
  },
  {
   "cell_type": "code",
   "execution_count": 11,
   "metadata": {},
   "outputs": [
    {
     "name": "stderr",
     "output_type": "stream",
     "text": [
      "c:\\Users\\Usuario\\anaconda3\\envs\\chatbot_rag\\Lib\\site-packages\\whisper\\__init__.py:150: FutureWarning: You are using `torch.load` with `weights_only=False` (the current default value), which uses the default pickle module implicitly. It is possible to construct malicious pickle data which will execute arbitrary code during unpickling (See https://github.com/pytorch/pytorch/blob/main/SECURITY.md#untrusted-models for more details). In a future release, the default value for `weights_only` will be flipped to `True`. This limits the functions that could be executed during unpickling. Arbitrary objects will no longer be allowed to be loaded via this mode unless they are explicitly allowlisted by the user via `torch.serialization.add_safe_globals`. We recommend you start setting `weights_only=True` for any use case where you don't have full control of the loaded file. Please open an issue on GitHub for any issues related to this experimental feature.\n",
      "  checkpoint = torch.load(fp, map_location=device)\n"
     ]
    }
   ],
   "source": [
    "# Load Whisper model\n",
    "model = whisper.load_model(\"medium\")"
   ]
  },
  {
   "cell_type": "markdown",
   "metadata": {},
   "source": [
    "# Ruta del archivo WAV\n",
    "input_audio_path = \"C:/Users/Usuario/tfm_call_optimizer/audios/3_nodasolucion_vivi.WAV\"\n",
    "output_audio_path = \"C:/Users/Usuario/tfm_call_optimizer/audios/3_nodasolucion_vivi_converted.mp3\"\n",
    "\n",
    "# Comando para convertir WAV a MP3\n",
    "ffmpeg_command = [\n",
    "    r\"C:\\Users\\Usuario\\ffmpeg-2025-03-06-git-696ea1c223-essentials_build\\bin\\ffmpeg.exe\",\n",
    "    \"-i\", input_audio_path,\n",
    "    output_audio_path\n",
    "]\n",
    "\n",
    "# Ejecutar el comando\n",
    "try:\n",
    "    subprocess.run(ffmpeg_command, check=True)\n",
    "    print(f\"✅ El archivo se ha convertido exitosamente a: {output_audio_path}\")\n",
    "except subprocess.CalledProcessError as e:\n",
    "    print(f\"❌ Error en la conversión: {e}\")\n",
    "\n",
    "# Ahora, usa este archivo convertido para transcribirlo con whisper\n",
    "audio_path = output_audio_path"
   ]
  },
  {
   "cell_type": "code",
   "execution_count": 12,
   "metadata": {},
   "outputs": [
    {
     "name": "stderr",
     "output_type": "stream",
     "text": [
      "c:\\Users\\Usuario\\anaconda3\\envs\\chatbot_rag\\Lib\\site-packages\\whisper\\transcribe.py:126: UserWarning: FP16 is not supported on CPU; using FP32 instead\n",
      "  warnings.warn(\"FP16 is not supported on CPU; using FP32 instead\")\n"
     ]
    },
    {
     "name": "stdout",
     "output_type": "stream",
     "text": [
      "Texto transcrito:  El número de la extensión con la cual desea comunicarte, por favor, márquelo. De lo contrario, marque. 1. Pedidos de operación. 2. Despacio. 3. Cotizaciones. Si desea comunicarle con nuestra operadora, por favor, marque cero. Dios, dices Buenas tardes. ¿Le habla Lina? Hola Lina, ¿cómo te vas a hablar con yo? Mi nombre es Satian. Hola Johnny, muy bien, gracias por tu malestar. Ah, muy bien, gracias. Johnny, es que me ha pasado algo extraño con el computador. Todas las líneas no me funcionaban, ninguna de las computadores, salía a marcar a cualquier extensión y no se dejaba, era en verde. Y en el día en que el teléfono se puso todo como en rojo. Entonces me tocó desconectarlo del internet y desconectarlo de la luz y volver a conectar. Y volvió, reinició y reinició. Ya viene, así me salen y me entran las llamadas. En ese momento acaba de ser como que lo reinicié y hacía todo, pero quería que lo hiciera como monitoreo porque si me parece extraño lo que pensó. Ah, no, dale, igual si lo vamos a hacer, pues monitorea, a ver qué pasó. Igual vamos a revisar el cartillo, a ver qué pasó. Sí, porque me ha podido conversar con usted, sin el despejado. Claro que sí, hágale sí. De que hoy me he cambiado de nombre a Johnny. Hágale que sí, dale. Gracias. Dale, con mucho gusto. Hasta luego. Deja, hasta luego. Hasta luego.\n",
      "✅ Transcripción guardada en: C:/Users/Usuario/tfm_call_optimizer/transcripciones/3_nodasolucion_vivi_converted.txt\n"
     ]
    }
   ],
   "source": [
    "# Transcribir el archivo de audio convertido\n",
    "audio_path = \"C:/Users/Usuario/tfm_call_optimizer/audios/3_nodasolucion_vivi_converted.mp3\"\n",
    "\n",
    "# Transcribir audio\n",
    "result = model.transcribe(audio_path)\n",
    "\n",
    "# Obtener el texto transcrito\n",
    "raw_text = result[\"text\"]\n",
    "\n",
    "# Imprimir el texto transcrito\n",
    "print(f\"Texto transcrito: {raw_text}\")\n",
    "\n",
    "# Guardar la transcripción en un archivo de texto\n",
    "transcription_path = \"C:/Users/Usuario/tfm_call_optimizer/transcripciones/3_nodasolucion_vivi_converted.txt\"\n",
    "with open(transcription_path, \"w\", encoding=\"utf-8\") as f:\n",
    "    f.write(raw_text)\n",
    "\n",
    "print(f\"✅ Transcripción guardada en: {transcription_path}\")"
   ]
  },
  {
   "cell_type": "code",
   "execution_count": null,
   "metadata": {},
   "outputs": [],
   "source": [
    "# Limpiar transcripción\n",
    "cleaned_text = clean_transcription(raw_text)\n",
    "\n",
    "# Guardar en archivo de texto\n",
    "with open(transcription_path, \"w\", encoding=\"utf-8\") as f:\n",
    "    f.write(cleaned_text)\n",
    "\n",
    "print(f\"✅ Saved cleaned transcription: {transcription_path}\")"
   ]
  },
  {
   "cell_type": "markdown",
   "metadata": {},
   "source": [
    "\n",
    "# Function to clean transcription text\n",
    "def clean_transcription(text):\n",
    "    \"\"\"\n",
    "    Cleans the transcription text by removing filler words, extra spaces,\n",
    "    and unwanted artifacts.\n",
    "    \"\"\"\n",
    "    # Define common filler words (can be extended)\n",
    "    filler_words = [\"eh\", \"mmm\", \"este\", \"o sea\", \"pues\", \"bueno\", \"entonces\", \"verdad\", \"sabes\", \"digo\"]\n",
    "    filler_pattern = r'\\b(?:' + '|'.join(filler_words) + r')\\b'\n",
    "\n",
    "    # Remove filler words\n",
    "    text = re.sub(filler_pattern, '', text, flags=re.IGNORECASE)\n",
    "\n",
    "    # Remove multiple spaces\n",
    "    text = re.sub(r'\\s+', ' ', text)\n",
    "\n",
    "    # Remove unnecessary punctuation repetition (e.g., \"Hello....\" → \"Hello.\")\n",
    "    text = re.sub(r'([.?!])\\1+', r'\\1', text)\n",
    "\n",
    "    # Strip leading/trailing spaces\n",
    "    text = text.strip()\n",
    "\n",
    "    return text\n",
    "\n"
   ]
  },
  {
   "cell_type": "markdown",
   "metadata": {},
   "source": [
    "for filename in os.listdir(audio_folder):\n",
    "    if filename.endswith(\".wav\") or filename.endswith(\".mp3\"):\n",
    "        audio_path = os.path.join(audio_folder, filename)\n",
    "        transcription_path = os.path.join(transcription_folder, filename.replace(\".wav\", \".txt\").replace(\".mp3\", \".txt\"))\n",
    "\n",
    "        # Transcribe audio\n",
    "        result = model.transcribe(audio_path)\n",
    "        raw_text = result[\"text\"]\n",
    "\n",
    "        # Clean transcription text\n",
    "        cleaned_text = clean_transcription(raw_text)\n",
    "\n",
    "        # Save cleaned transcription to a .txt file\n",
    "        with open(transcription_path, \"w\", encoding=\"utf-8\") as f:\n",
    "            f.write(cleaned_text)\n",
    "\n",
    "        # Insert cleaned transcription into MySQL\n",
    "        sql = \"\"\"\n",
    "        INSERT INTO transcriptions (call_id, transcription, status)\n",
    "        VALUES (%s, %s, %s)\n",
    "        \"\"\"\n",
    "        values = (filename.replace(\".wav\", \"\").replace(\".mp3\", \"\"), cleaned_text, \"Pending\")\n",
    "\n",
    "        cursor.execute(sql, values)\n",
    "        conn.commit()\n",
    "\n",
    "        print(f\"✅ Saved cleaned transcription: {transcription_path} & stored in database.\")\n",
    "\n",
    "cursor.close()\n",
    "conn.close()\n"
   ]
  }
 ],
 "metadata": {
  "kernelspec": {
   "display_name": "chatbot_rag",
   "language": "python",
   "name": "python3"
  },
  "language_info": {
   "codemirror_mode": {
    "name": "ipython",
    "version": 3
   },
   "file_extension": ".py",
   "mimetype": "text/x-python",
   "name": "python",
   "nbconvert_exporter": "python",
   "pygments_lexer": "ipython3",
   "version": "3.11.9"
  }
 },
 "nbformat": 4,
 "nbformat_minor": 2
}
