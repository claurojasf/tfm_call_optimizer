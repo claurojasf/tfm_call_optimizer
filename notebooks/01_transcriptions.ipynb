{
 "cells": [
  {
   "cell_type": "markdown",
   "metadata": {},
   "source": [
    "# Carga de audios, transcripción, limpieza y almacenamiento"
   ]
  },
  {
   "cell_type": "code",
   "execution_count": 7,
   "metadata": {},
   "outputs": [],
   "source": [
    "import os\n",
    "#import mysql.connector\n",
    "import re\n",
    "\n",
    "# Install whisper package\n",
    "#%pip install openai-whisper\n",
    "\n",
    "import whisper\n",
    "import subprocess\n",
    "\n",
    "#para hacer que la transcripcion sea mas rapida \n",
    "from concurrent.futures import ThreadPoolExecutor"
   ]
  },
  {
   "cell_type": "code",
   "execution_count": 8,
   "metadata": {},
   "outputs": [],
   "source": [
    "# Folderes donde se ubican los audios y donde se almacenan los txt\n",
    "audio_folder = \"C:/Users/Usuario/tfm_call_optimizer/audios_prueba/\"\n",
    "transcription_folder = \"C:/Users/Usuario/tfm_call_optimizer/transcripciones_prueba/\""
   ]
  },
  {
   "cell_type": "code",
   "execution_count": 9,
   "metadata": {},
   "outputs": [],
   "source": [
    "# Load Whisper model\n",
    "model = whisper.load_model(\"medium\")"
   ]
  },
  {
   "cell_type": "code",
   "execution_count": 10,
   "metadata": {},
   "outputs": [],
   "source": [
    "def clean_transcription(text):\n",
    "    \"\"\"\n",
    "    Limpia la transcripción eliminando muletillas, espacios extra\n",
    "    y artefactos no deseados.\n",
    "    \"\"\"\n",
    "    filler_words = [\"y\",\"eh\", \"mmm\", \"este\", \"o sea\", \"pues\", \"bueno\", \"entonces\", \"verdad\", \"sabes\", \"digo\"]\n",
    "    filler_pattern = r'\\b(?:' + '|'.join(filler_words) + r')\\b'\n",
    "\n",
    "    text = re.sub(filler_pattern, '', text, flags=re.IGNORECASE)  # Elimina muletillas\n",
    "    text = re.sub(r'\\s+', ' ', text)  # Reemplaza múltiples espacios por uno solo\n",
    "    text = re.sub(r'([.?!])\\1+', r'\\1', text)  # Elimina repeticiones innecesarias de signos de puntuación\n",
    "    text = text.strip()  # Elimina espacios al inicio y al final\n",
    "\n",
    "    return text\n"
   ]
  },
  {
   "cell_type": "code",
   "execution_count": 11,
   "metadata": {},
   "outputs": [
    {
     "name": "stdout",
     "output_type": "stream",
     "text": [
      "Transcripción de Audios_mp3_call0001.mp3 guardada en C:/Users/Usuario/tfm_call_optimizer/transcripciones_prueba/\n",
      "Transcripción de Audios_mp3_call0003.mp3 guardada en C:/Users/Usuario/tfm_call_optimizer/transcripciones_prueba/\n",
      "Transcripción de Audios_mp3_call0004.mp3 guardada en C:/Users/Usuario/tfm_call_optimizer/transcripciones_prueba/\n",
      "Transcripción de Audios_mp3_call0006.mp3 guardada en C:/Users/Usuario/tfm_call_optimizer/transcripciones_prueba/\n",
      "Transcripción de Audios_mp3_call0007.mp3 guardada en C:/Users/Usuario/tfm_call_optimizer/transcripciones_prueba/\n",
      "Transcripción de Audios_mp3_call0008.mp3 guardada en C:/Users/Usuario/tfm_call_optimizer/transcripciones_prueba/\n"
     ]
    }
   ],
   "source": [
    "\n",
    "# Ensure the transcription directory exists\n",
    "os.makedirs(transcription_folder, exist_ok=True)\n",
    "\n",
    "def transcribe_audio(filename):\n",
    "    audio_path = os.path.join(audio_folder, filename)\n",
    "    ##transcription_path = os.path.join(transcription_folder, filename.replace(\".wav\", \".txt\").replace(\".mp3\", \".txt\"))\n",
    "    \n",
    "    # Realizar la transcripción del audio\n",
    "    result = model.transcribe(audio_path)\n",
    "    \n",
    "    # El texto transcrito se obtiene aquí\n",
    "    raw_text = result[\"text\"]\n",
    "    \n",
    "    # Limpiar la transcripción\n",
    "    cleaned_text = clean_transcription(raw_text)\n",
    "    \n",
    "    # Construct the file path for the transcription\n",
    "    transcription_path = os.path.join(transcription_folder, filename.replace(\".wav\", \".txt\").replace(\".mp3\", \".txt\"))\n",
    "    \n",
    "    # Guardar la transcripción limpia en un archivo de texto\n",
    "    with open(transcription_path, \"w\", encoding=\"utf-8\") as f:\n",
    "        f.write(cleaned_text)\n",
    "\n",
    "    print(f\"Transcripción de {filename} guardada en {transcription_folder}\")\n",
    "\n",
    "# Listar todos los archivos de audio\n",
    "audio_files = [f for f in os.listdir(audio_folder) if f.endswith(\".wav\") or f.endswith(\".mp3\")]\n",
    "# Transcribe each file\n",
    "for file in audio_files:\n",
    "    transcribe_audio(file)"
   ]
  },
  {
   "cell_type": "markdown",
   "metadata": {},
   "source": [
    "# Ruta del archivo WAV\n",
    "input_audio_path = \"C:/Users/Usuario/tfm_call_optimizer/audios/MESAVOIP_20250114-163456_4007_6044038280-all.WAV\"\n",
    "output_audio_path = \"C:/Users/Usuario/tfm_call_optimizer/audios/MESAVOIP_20250114-163456_4007_6044038280-all.mp3\"\n",
    "\n",
    "# Comando para convertir WAV a MP3\n",
    "ffmpeg_command = [\n",
    "    r\"C:\\Users\\Usuario\\ffmpeg-2025-03-06-git-696ea1c223-essentials_build\\bin\\ffmpeg.exe\",\n",
    "    \"-i\", input_audio_path,\n",
    "    output_audio_path\n",
    "]\n",
    "\n",
    "# Ejecutar el comando\n",
    "try:\n",
    "    subprocess.run(ffmpeg_command, check=True)\n",
    "    print(f\"✅ El archivo se ha convertido exitosamente a: {output_audio_path}\")\n",
    "except subprocess.CalledProcessError as e:\n",
    "    print(f\"❌ Error en la conversión: {e}\")\n",
    "\n",
    "# Ahora, usa este archivo convertido para transcribirlo con whisper\n",
    "audio_path = output_audio_path"
   ]
  },
  {
   "cell_type": "markdown",
   "metadata": {},
   "source": [
    "filename = \"MESAVOIP_20250114-163456_4007_6044038280-all.wav\"  # Nombre del archivo de prueba\n",
    "audio_path = os.path.join(audio_folder, filename)\n",
    "transcription_path = os.path.join(transcription_folder, filename.replace(\".wav\", \".txt\"))\n",
    "\n",
    "# Transcribir audio\n",
    "result = model.transcribe(audio_path)\n",
    "raw_text = result[\"text\"]\n",
    "\n",
    "# Limpiar transcripción\n",
    "#cleaned_text = clean_transcription(raw_text)\n",
    "\n",
    "# Guardar en archivo de texto\n",
    "with open(transcription_path, \"w\", encoding=\"utf-8\") as f:\n",
    "    f.write(cleaned_text)\n",
    "\n",
    "print(f\"✅ Saved cleaned transcription: {transcription_path}\")\n"
   ]
  },
  {
   "cell_type": "markdown",
   "metadata": {},
   "source": [
    "# Transcribir el archivo de audio convertido\n",
    "audio_path = \"C:/Users/Usuario/tfm_call_optimizer/audios/MESAVOIP_20250114-163456_4007_6044038280-all.mp3\"\n",
    "\n",
    "# Transcribir audio\n",
    "result = model.transcribe(audio_path)\n",
    "\n",
    "# Obtener el texto transcrito\n",
    "raw_text = result[\"text\"]\n",
    "\n",
    "# Imprimir el texto transcrito\n",
    "print(f\"Texto transcrito: {raw_text}\")\n",
    "\n",
    "# Guardar la transcripción en un archivo de texto\n",
    "transcription_path = \"C:/Users/Usuario/tfm_call_optimizer/transcripciones/MESAVOIP_20250114-163456_4007_6044038280-all.txt\"\n",
    "with open(transcription_path, \"w\", encoding=\"utf-8\") as f:\n",
    "    f.write(raw_text)\n",
    "\n",
    "print(f\"✅ Transcripción guardada en: {transcription_path}\")"
   ]
  },
  {
   "cell_type": "markdown",
   "metadata": {},
   "source": [
    "# Connect to MySQL\n",
    "conn = mysql.connector.connect(\n",
    "    host=\"your-mysql-server\",\n",
    "    user=\"your-username\",\n",
    "    password=\"your-password\",\n",
    "    database=\"your-database\"\n",
    ")\n",
    "cursor = conn.cursor()"
   ]
  },
  {
   "cell_type": "markdown",
   "metadata": {},
   "source": [
    "# Asegurémonos de que `ffmpeg` esté en el PATH antes de la transcripción\n",
    "ffmpeg_path = r\"C:\\Users\\Usuario\\ffmpeg-2025-03-06-git-696ea1c223-essentials_build\\bin\\ffmpeg.exe\"\n",
    "\n",
    "# Verificar si ffmpeg está accesible desde Python\n",
    "try:\n",
    "    subprocess.run([ffmpeg_path, \"-version\"], check=True, capture_output=True)\n",
    "    print(\"✅ ffmpeg está correctamente accesible.\")\n",
    "except FileNotFoundError:\n",
    "    print(\"❌ No se pudo encontrar ffmpeg en la ruta especificada.\")\n",
    "    exit()\n"
   ]
  },
  {
   "cell_type": "markdown",
   "metadata": {},
   "source": [
    "# Verificar si ffmpeg está accesible desde Python\n",
    "try:\n",
    "    subprocess.run([ffmpeg_path, \"-version\"], check=True, capture_output=True)\n",
    "    print(\"✅ ffmpeg está correctamente accesible.\")\n",
    "except FileNotFoundError:\n",
    "    print(\"❌ No se pudo encontrar ffmpeg en la ruta especificada.\")\n",
    "    exit()"
   ]
  },
  {
   "cell_type": "markdown",
   "metadata": {},
   "source": [
    "# Asegurémonos de que `ffmpeg` esté en el PATH antes de la transcripción\n",
    "ffmpeg_path = r\"C:\\Users\\Usuario\\ffmpeg-2025-03-06-git-696ea1c223-essentials_build\\bin\\ffmpeg.exe\""
   ]
  },
  {
   "cell_type": "markdown",
   "metadata": {},
   "source": [
    "# Configurar ffmpeg manualmente en whisper\n",
    "whisper.utils.ffmpeg_bin = ffmpeg_path  # Esto le dice a whisper dónde encontrar ffmpeg"
   ]
  },
  {
   "cell_type": "markdown",
   "metadata": {},
   "source": [
    "# Limpiar transcripción\n",
    "cleaned_text = clean_transcription(raw_text)\n",
    "\n",
    "# Guardar en archivo de texto\n",
    "with open(transcription_path, \"w\", encoding=\"utf-8\") as f:\n",
    "    f.write(cleaned_text)\n",
    "\n",
    "print(f\"✅ Saved cleaned transcription: {transcription_path}\")"
   ]
  },
  {
   "cell_type": "markdown",
   "metadata": {},
   "source": [
    "\n",
    "# Function to clean transcription text\n",
    "def clean_transcription(text):\n",
    "    \"\"\"\n",
    "    Cleans the transcription text by removing filler words, extra spaces,\n",
    "    and unwanted artifacts.\n",
    "    \"\"\"\n",
    "    # Define common filler words (can be extended)\n",
    "    filler_words = [\"eh\", \"mmm\", \"este\", \"o sea\", \"pues\", \"bueno\", \"entonces\", \"verdad\", \"sabes\", \"digo\"]\n",
    "    filler_pattern = r'\\b(?:' + '|'.join(filler_words) + r')\\b'\n",
    "\n",
    "    # Remove filler words\n",
    "    text = re.sub(filler_pattern, '', text, flags=re.IGNORECASE)\n",
    "\n",
    "    # Remove multiple spaces\n",
    "    text = re.sub(r'\\s+', ' ', text)\n",
    "\n",
    "    # Remove unnecessary punctuation repetition (e.g., \"Hello....\" → \"Hello.\")\n",
    "    text = re.sub(r'([.?!])\\1+', r'\\1', text)\n",
    "\n",
    "    # Strip leading/trailing spaces\n",
    "    text = text.strip()\n",
    "\n",
    "    return text\n",
    "\n"
   ]
  },
  {
   "cell_type": "markdown",
   "metadata": {},
   "source": [
    "for filename in os.listdir(audio_folder):\n",
    "    if filename.endswith(\".wav\") or filename.endswith(\".mp3\"):\n",
    "        audio_path = os.path.join(audio_folder, filename)\n",
    "        transcription_path = os.path.join(transcription_folder, filename.replace(\".wav\", \".txt\").replace(\".mp3\", \".txt\"))\n",
    "\n",
    "        # Transcribe audio\n",
    "        result = model.transcribe(audio_path)\n",
    "        raw_text = result[\"text\"]\n",
    "\n",
    "        # Clean transcription text\n",
    "        cleaned_text = clean_transcription(raw_text)\n",
    "\n",
    "        # Save cleaned transcription to a .txt file\n",
    "        with open(transcription_path, \"w\", encoding=\"utf-8\") as f:\n",
    "            f.write(cleaned_text)\n",
    "\n",
    "        # Insert cleaned transcription into MySQL\n",
    "        sql = \"\"\"\n",
    "        INSERT INTO transcriptions (call_id, transcription, status)\n",
    "        VALUES (%s, %s, %s)\n",
    "        \"\"\"\n",
    "        values = (filename.replace(\".wav\", \"\").replace(\".mp3\", \"\"), cleaned_text, \"Pending\")\n",
    "\n",
    "        cursor.execute(sql, values)\n",
    "        conn.commit()\n",
    "\n",
    "        print(f\"✅ Saved cleaned transcription: {transcription_path} & stored in database.\")\n",
    "\n",
    "cursor.close()\n",
    "conn.close()\n"
   ]
  }
 ],
 "metadata": {
  "kernelspec": {
   "display_name": "Python 3",
   "language": "python",
   "name": "python3"
  },
  "language_info": {
   "codemirror_mode": {
    "name": "ipython",
    "version": 3
   },
   "file_extension": ".py",
   "mimetype": "text/x-python",
   "name": "python",
   "nbconvert_exporter": "python",
   "pygments_lexer": "ipython3",
   "version": "3.12.3"
  }
 },
 "nbformat": 4,
 "nbformat_minor": 2
}
