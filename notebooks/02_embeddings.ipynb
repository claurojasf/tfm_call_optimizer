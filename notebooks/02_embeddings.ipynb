{
 "cells": [
  {
   "cell_type": "markdown",
   "metadata": {},
   "source": [
    "# Transcripciones a embeddings y almacenamiento en BBDD vectorial"
   ]
  },
  {
   "cell_type": "code",
   "execution_count": null,
   "metadata": {},
   "outputs": [],
   "source": [
    "import os\n",
    "import openai\n",
    "import pinecone\n",
    "\n",
    "# Initialize OpenAI API\n",
    "openai.api_key = \"your-openai-api-key\"\n",
    "\n",
    "# Initialize Pinecone\n",
    "pinecone.init(api_key=\"your-pinecone-api-key\", environment=\"us-west1-gcp\")\n",
    "index = pinecone.Index(\"transcriptions-index\")\n",
    "\n",
    "# Path to transcription files\n",
    "transcription_folder = \"data/transcriptions/\"\n",
    "\n",
    "# Process each transcription\n",
    "for filename in os.listdir(transcription_folder):\n",
    "    if filename.endswith(\".txt\"):\n",
    "        filepath = os.path.join(transcription_folder, filename)\n",
    "\n",
    "        # Read transcription text\n",
    "        with open(filepath, \"r\", encoding=\"utf-8\") as f:\n",
    "            text = f.read()\n",
    "\n",
    "        # Generate embeddings using OpenAI ADA2\n",
    "        response = openai.Embedding.create(input=text, model=\"text-embedding-ada-002\")\n",
    "        embedding = response[\"data\"][0][\"embedding\"]\n",
    "\n",
    "        # Store in Pinecone\n",
    "        index.upsert([(filename, embedding)])\n",
    "\n",
    "        print(f\"Stored embedding for: {filename}\")\n"
   ]
  }
 ],
 "metadata": {
  "kernelspec": {
   "display_name": "Python 3",
   "language": "python",
   "name": "python3"
  },
  "language_info": {
   "name": "python",
   "version": "3.12.3"
  }
 },
 "nbformat": 4,
 "nbformat_minor": 2
}
