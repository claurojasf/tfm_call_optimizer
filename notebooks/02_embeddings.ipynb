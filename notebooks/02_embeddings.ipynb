{
 "cells": [
  {
   "cell_type": "markdown",
   "metadata": {},
   "source": [
    "# Transcripciones a embeddings y almacenamiento en BBDD vectorial"
   ]
  },
  {
   "cell_type": "code",
   "execution_count": null,
   "metadata": {},
   "outputs": [],
   "source": [
    "# ✅ Updated Code with `dotenv` and `langchain` Framework Integration\n",
    "import mysql.connector\n",
    "import openai\n",
    "import pinecone\n",
    "import os\n",
    "import json\n",
    "from dotenv import load_dotenv\n",
    "from langchain.embeddings import OpenAIEmbeddings\n",
    "from langchain.vectorstores import Pinecone as PineconeLangchain\n",
    "\n",
    "# 📌 Load Environment Variables from .env\n",
    "load_dotenv()\n",
    "openai.api_key = os.getenv(\"OPENAI_API_KEY\")\n",
    "pinecone.init(api_key=os.getenv(\"PINECONE_API_KEY\"), environment=os.getenv(\"PINECONE_ENVIRONMENT\"))\n",
    "\n",
    "# 📌 Connect to MySQL Database\n",
    "conn = mysql.connector.connect(\n",
    "    host=os.getenv(\"MYSQL_HOST\"),\n",
    "    user=os.getenv(\"MYSQL_USER\"),\n",
    "    password=os.getenv(\"MYSQL_PASSWORD\"),\n",
    "    database=os.getenv(\"MYSQL_DATABASE\")\n",
    ")\n",
    "cursor = conn.cursor()\n",
    "\n",
    "# 📌 Fetch Transcriptions from MySQL\n",
    "cursor.execute(\"SELECT call_id, transcription FROM transcriptions WHERE status IN ('Success', 'Failed')\")\n",
    "transcriptions = cursor.fetchall()\n",
    "\n",
    "# 📌 Initialize Langchain with OpenAI Embeddings and Pinecone\n",
    "embeddings = OpenAIEmbeddings(model=\"text-embedding-ada-002\")\n",
    "pinecone_store = PineconeLangchain(index_name=os.getenv(\"PINECONE_INDEX\"), embedding=embeddings)\n",
    "\n",
    "# 📌 Process Each Transcription and Store in Pinecone via Langchain\n",
    "for call_id, transcription_json in transcriptions:\n",
    "    transcription_data = json.loads(transcription_json)\n",
    "    for i, entry in enumerate(transcription_data):\n",
    "        speaker = entry[\"speaker\"]\n",
    "        text = entry[\"text\"]\n",
    "\n",
    "        vector_id = f\"{call_id}_{i+1}\"\n",
    "\n",
    "        # Add document to Langchain Pinecone store with metadata\n",
    "        pinecone_store.add_texts(\n",
    "            texts=[text],\n",
    "            metadatas=[{\"call_id\": call_id, \"speaker\": speaker, \"text\": text}],\n",
    "            ids=[vector_id]\n",
    "        )\n",
    "        print(f\"✅ Stored via Langchain: {vector_id} | {speaker} | {text}\")\n",
    "\n",
    "# 📌 Close MySQL Connection\n",
    "cursor.close()\n",
    "conn.close()\n",
    "print(\"🚀 All transcriptions stored in Pinecone via Langchain!\")"
   ]
  }
 ],
 "metadata": {
  "kernelspec": {
   "display_name": "Python 3",
   "language": "python",
   "name": "python3"
  },
  "language_info": {
   "name": "python",
   "version": "3.12.3"
  }
 },
 "nbformat": 4,
 "nbformat_minor": 2
}
