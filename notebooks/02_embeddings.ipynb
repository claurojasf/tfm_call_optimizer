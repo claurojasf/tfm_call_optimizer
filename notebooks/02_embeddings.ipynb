{
 "cells": [
  {
   "cell_type": "markdown",
   "metadata": {},
   "source": [
    "# Transcripciones a embeddings y almacenamiento en BBDD vectorial"
   ]
  },
  {
   "cell_type": "code",
   "execution_count": null,
   "metadata": {},
   "outputs": [],
   "source": [
    "import mysql.connector\n",
    "import openai\n",
    "import pinecone\n",
    "import os\n",
    "\n",
    "# 🔹 Load API Keys\n",
    "openai.api_key = os.getenv(\"OPENAI_API_KEY\")\n",
    "pinecone.init(api_key=os.getenv(\"PINECONE_API_KEY\"), environment=\"us-west1-gcp\")  # Replace with your region\n",
    "\n",
    "# 🔹 Connect to MySQL Database\n",
    "conn = mysql.connector.connect(\n",
    "    host=\"your-mysql-server\",\n",
    "    user=\"your-username\",\n",
    "    password=\"your-password\",\n",
    "    database=\"your-database\"\n",
    ")\n",
    "cursor = conn.cursor()\n",
    "\n",
    "# 🔹 Fetch Transcriptions from MySQL\n",
    "cursor.execute(\"SELECT call_id, transcription FROM transcriptions WHERE status IN ('Success', 'Failed')\")\n",
    "transcriptions = cursor.fetchall()  # Returns a list of (call_id, transcription) tuples\n",
    "\n",
    "# 🔹 Connect to Pinecone\n",
    "index_name = \"transcriptions-index\"\n",
    "index = pinecone.Index(index_name)\n",
    "\n",
    "# 🔹 Process Each Transcription\n",
    "for call_id, transcription_json in transcriptions:\n",
    "    # Convert JSON string to list (assuming structured JSON)\n",
    "    import json\n",
    "    transcription_data = json.loads(transcription_json)\n",
    "\n",
    "    for i, entry in enumerate(transcription_data):  # Loop through each sentence\n",
    "        speaker = entry[\"speaker\"]  # \"Agent\" or \"Customer\"\n",
    "        text = entry[\"text\"]\n",
    "\n",
    "        # Generate embedding\n",
    "        response = openai.Embedding.create(input=text, model=\"text-embedding-ada-002\")\n",
    "        embedding = response[\"data\"][0][\"embedding\"]\n",
    "\n",
    "        # Create unique ID for each sentence\n",
    "        vector_id = f\"{call_id}_{i+1}\"  # Example: \"grab_1_1\"\n",
    "\n",
    "        # Store in Pinecone with metadata\n",
    "        index.upsert([(vector_id, embedding, {\"call_id\": call_id, \"speaker\": speaker, \"text\": text})])\n",
    "\n",
    "        print(f\"✅ Stored: {vector_id} | {speaker} | {text}\")\n",
    "\n",
    "# 🔹 Close MySQL Connection\n",
    "cursor.close()\n",
    "conn.close()\n",
    "\n",
    "print(\"🚀 All transcriptions (Agent/Customer) stored in Pinecone!\")\n"
   ]
  }
 ],
 "metadata": {
  "kernelspec": {
   "display_name": "Python 3",
   "language": "python",
   "name": "python3"
  },
  "language_info": {
   "name": "python",
   "version": "3.12.3"
  }
 },
 "nbformat": 4,
 "nbformat_minor": 2
}
