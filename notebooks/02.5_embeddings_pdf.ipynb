{
 "cells": [
  {
   "cell_type": "code",
   "execution_count": 1,
   "metadata": {},
   "outputs": [
    {
     "name": "stderr",
     "output_type": "stream",
     "text": [
      "c:\\Users\\Claudio\\tfm_call_optimizer\\venv\\Lib\\site-packages\\pinecone\\data\\index.py:1: TqdmWarning: IProgress not found. Please update jupyter and ipywidgets. See https://ipywidgets.readthedocs.io/en/stable/user_install.html\n",
      "  from tqdm.autonotebook import tqdm\n",
      "C:\\Users\\Claudio\\AppData\\Local\\Temp\\ipykernel_18116\\3763204789.py:41: LangChainDeprecationWarning: The class `HuggingFaceBgeEmbeddings` was deprecated in LangChain 0.2.2 and will be removed in 1.0. An updated version of the class exists in the :class:`~langchain-huggingface package and should be used instead. To use it run `pip install -U :class:`~langchain-huggingface` and import as `from :class:`~langchain_huggingface import HuggingFaceEmbeddings``.\n",
      "  embedding_model = HuggingFaceBgeEmbeddings(\n"
     ]
    },
    {
     "name": "stdout",
     "output_type": "stream",
     "text": [
      "✅ 337 PDF chunks embedded and uploaded to Pinecone!\n"
     ]
    }
   ],
   "source": [
    "import os\n",
    "from dotenv import load_dotenv\n",
    "from langchain_community.document_loaders import PyPDFLoader\n",
    "from langchain_text_splitters import RecursiveCharacterTextSplitter\n",
    "from langchain.embeddings import HuggingFaceBgeEmbeddings\n",
    "from pinecone import Pinecone\n",
    "\n",
    "# ✅ Load .env variables (API key, index name, etc.)\n",
    "load_dotenv()\n",
    "\n",
    "# Pinecone config\n",
    "pinecone_api_key = os.getenv(\"PINECONE_API_KEY\")\n",
    "index_name = os.getenv(\"PINECONE_INDEX_V3\")\n",
    "if not pinecone_api_key or not index_name:\n",
    "    raise ValueError(\"⚠️ Missing Pinecone API key or index name. Check your .env file.\")\n",
    "\n",
    "# ✅ Initialize Pinecone client and index\n",
    "pinecone_client = Pinecone(api_key=pinecone_api_key)\n",
    "\n",
    "# Check if the index exists\n",
    "if index_name not in [idx[\"name\"] for idx in pinecone_client.list_indexes()]:\n",
    "    raise ValueError(f\"❌ Index '{index_name}' does not exist in Pinecone.\")\n",
    "\n",
    "index = pinecone_client.Index(index_name)\n",
    "\n",
    "# ✅ Load the PDF\n",
    "pdf_path = r\"C:\\Users\\Claudio\\tfm_call_optimizer\\data\\documentos_empresa_rag\\Soluciones_Generales.pdf\"\n",
    "loader = PyPDFLoader(pdf_path)\n",
    "pages = loader.load()\n",
    "\n",
    "# ✅ Split PDF content into chunks\n",
    "splitter = RecursiveCharacterTextSplitter(\n",
    "    chunk_size=350,\n",
    "    chunk_overlap=75,\n",
    "    separators=[\"\\n\\n\", \"\\n\", \".\", \",\", \" \"],\n",
    "    length_function=len\n",
    ")\n",
    "chunks = splitter.split_documents(pages)\n",
    "\n",
    "# ✅ Initialize embeddings model\n",
    "embedding_model = HuggingFaceBgeEmbeddings(\n",
    "    model_name=\"sentence-transformers/all-MiniLM-L6-v2\",\n",
    "    model_kwargs={'device': 'cpu'},\n",
    "    encode_kwargs={'normalize_embeddings': True}\n",
    ")\n",
    "\n",
    "# ✅ Process and store each chunk\n",
    "pdf_id = \"soluciones_generales\"\n",
    "filename = os.path.basename(pdf_path)\n",
    "\n",
    "for i, chunk in enumerate(chunks):\n",
    "    content = chunk.page_content\n",
    "    embedding = embedding_model.embed_query(content)\n",
    "\n",
    "    vector_id = f\"{pdf_id}_chunk_{i+1:03}\"  # ejemplo: soluciones_generales_chunk_001\n",
    "\n",
    "    metadata = {\n",
    "        \"pdf_id\": pdf_id,\n",
    "        \"chunk_id\": f\"{i+1:03}\",\n",
    "        \"filename\": filename,\n",
    "        \"source\": \"pdf\",\n",
    "        \"text\": content\n",
    "    }\n",
    "\n",
    "    index.upsert([(vector_id, embedding, metadata)])\n",
    "\n",
    "print(f\"✅ {len(chunks)} PDF chunks embedded and uploaded to Pinecone!\")\n"
   ]
  }
 ],
 "metadata": {
  "kernelspec": {
   "display_name": "venv",
   "language": "python",
   "name": "python3"
  },
  "language_info": {
   "codemirror_mode": {
    "name": "ipython",
    "version": 3
   },
   "file_extension": ".py",
   "mimetype": "text/x-python",
   "name": "python",
   "nbconvert_exporter": "python",
   "pygments_lexer": "ipython3",
   "version": "3.12.3"
  }
 },
 "nbformat": 4,
 "nbformat_minor": 2
}
